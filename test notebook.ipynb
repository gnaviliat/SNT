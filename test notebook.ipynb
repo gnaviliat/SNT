{
 "cells": [
  {
   "cell_type": "markdown",
   "metadata": {},
   "source": [
    "# Utiliser Jupyter Notebook # \n",
    "un premier jet pour comprendre comment cela fonctionne"
   ]
  },
  {
   "cell_type": "markdown",
   "metadata": {},
   "source": [
    "#### les blocs"
   ]
  },
  {
   "cell_type": "raw",
   "metadata": {},
   "source": [
    "Dans un document de type Notebook, vous pouvez insérez des blocs en cliquant sur le \"+\" dans le menu global.\n",
    "un bloc peut être de 3 types:\n",
    "- markdown\n",
    "- texte brut\n",
    "- code"
   ]
  },
  {
   "cell_type": "markdown",
   "metadata": {},
   "source": [
    "#### markdown"
   ]
  },
  {
   "cell_type": "markdown",
   "metadata": {},
   "source": [
    "Un bloc de type markdown est nécessaire pour créer du texte qui va pouvoir être mis en form suivant les balises standards définies par la \"norme\" markdown.\n",
    "pour avoir un aperçu des balises les plus courantes et la façon de les utiliser vous pouvez vous référer à [ce lien ](https://www.markdownguide.org/basic-syntax/)\n"
   ]
  },
  {
   "cell_type": "markdown",
   "metadata": {},
   "source": [
    "#### texte brut"
   ]
  },
  {
   "cell_type": "raw",
   "metadata": {},
   "source": [
    "n bloc de type texte brut vous permet de rentrer du texte sans aucun formattage particulier, comme ce que vous êtes en train de lire en cemoment dans ce bloc.\n",
    "On peut aller à la ligne mais c'est tout..."
   ]
  },
  {
   "cell_type": "markdown",
   "metadata": {},
   "source": [
    "#### code"
   ]
  },
  {
   "cell_type": "raw",
   "metadata": {},
   "source": [
    "Le bloc de type code vous permet d'écrire du code python et de l'éxécuter directement. Il suffit pour cela de cliquer sur la commande \"exécuter\" dans le menu symbolique.\n",
    "Vous verrez alors le résultat apparaître si le code est valide."
   ]
  },
  {
   "cell_type": "raw",
   "metadata": {},
   "source": [
    "faisons un essai directement:\n",
    "affectez deux valeurs au choix à deux variables i et j et ajoutez celles-ci / éxécutez le code"
   ]
  },
  {
   "cell_type": "code",
   "execution_count": 1,
   "metadata": {},
   "outputs": [
    {
     "data": {
      "text/plain": [
       "423"
      ]
     },
     "execution_count": 1,
     "metadata": {},
     "output_type": "execute_result"
    }
   ],
   "source": [
    "i=56\n",
    "j=367\n",
    "i+j"
   ]
  },
  {
   "cell_type": "raw",
   "metadata": {},
   "source": [
    "C'est simple mais parlant...Imaginez que tout est possible quasiment avec ce process ! Vous pouvez donner des exemples de code aux élèves, le faire adapter par ceux-ci en fonction de vos besoins et donc vérifier vous même directement en exécutant les blocs modifiés par vos élèves.\n",
    "Ca change beaucoup de choses !"
   ]
  }
 ],
 "metadata": {
  "kernelspec": {
   "display_name": "Python 3",
   "language": "python",
   "name": "python3"
  },
  "language_info": {
   "codemirror_mode": {
    "name": "ipython",
    "version": 3
   },
   "file_extension": ".py",
   "mimetype": "text/x-python",
   "name": "python",
   "nbconvert_exporter": "python",
   "pygments_lexer": "ipython3",
   "version": "3.7.3"
  }
 },
 "nbformat": 4,
 "nbformat_minor": 2
}
