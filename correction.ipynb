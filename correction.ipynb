{
 "cells": [
  {
   "cell_type": "code",
   "execution_count": null,
   "metadata": {},
   "outputs": [],
   "source": [
    "alors un petit corrigé de ce que vous auriez pu faire pour répondre à la première problématique de création d interface IHM. "
   ]
  },
  {
   "cell_type": "markdown",
   "metadata": {},
   "source": [
    "from tkinter import *\n",
    "\n",
    "\n",
    "def affiche():\n",
    "    Texte.set('yes ')\n",
    "    \n",
    "# Création de la fenêtre principale (main window)\n",
    "Mafenetre = Tk()\n",
    "\n",
    "# Création d'un widget Label (texte 'Salut Raynouard !')\n",
    "Label1 = Label(Mafenetre, text = 'Salut Raynouard !', fg = 'red')\n",
    "# Positionnement du widget avec la méthode pack()\n",
    "Label1.pack()\n",
    "\n",
    "\n",
    "# Création d'un widget Button (bouton jouer)\n",
    "BoutonLancer = Button(Mafenetre, text ='jouer !', command = affiche)\n",
    "# Positionnement du widget avec la méthode pack()\n",
    "BoutonLancer.pack(side = LEFT, padx = 5, pady = 5)\n",
    "\n",
    "# Création d'un widget Button (bouton Quitter)\n",
    "BoutonQuitter = Button(Mafenetre, text ='Quitter', command = Mafenetre.destroy)\n",
    "BoutonQuitter.pack(side = LEFT, padx = 5, pady = 5)\n",
    "\n",
    "Texte = StringVar()\n",
    "\n",
    "\n",
    "# Création d'un widget Label (texte 'Résultat -> x')\n",
    "LabelResultat = Label(Mafenetre, textvariable = Texte, fg ='red', bg ='white')\n",
    "LabelResultat.pack(side = LEFT, padx = 5, pady = 5)\n",
    "\n",
    "# Lancement du gestionnaire d'événements\n",
    "Mafenetre.mainloop()"
   ]
  },
  {
   "cell_type": "code",
   "execution_count": null,
   "metadata": {},
   "outputs": [],
   "source": [
    "vous pouvez tester ce petit programme et consaterez que je ne suis pas passé par l utilisation du canvas pour l instant.\n",
    "Par contre vous pouvez vous rendre compte que j ai utilisé une méthode de fonction pour le bouton jouer.\n",
    "Reperez bien les particularités existantes au niveau de la passation de variable.\n"
   ]
  }
 ],
 "metadata": {
  "kernelspec": {
   "display_name": "Python 3",
   "language": "python",
   "name": "python3"
  },
  "language_info": {
   "codemirror_mode": {
    "name": "ipython",
    "version": 3
   },
   "file_extension": ".py",
   "mimetype": "text/x-python",
   "name": "python",
   "nbconvert_exporter": "python",
   "pygments_lexer": "ipython3",
   "version": "3.7.4"
  }
 },
 "nbformat": 4,
 "nbformat_minor": 4
}
