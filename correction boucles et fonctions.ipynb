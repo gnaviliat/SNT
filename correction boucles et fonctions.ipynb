{
 "cells": [
  {
   "cell_type": "markdown",
   "metadata": {},
   "source": [
    "CORRECTION:"
   ]
  },
  {
   "cell_type": "markdown",
   "metadata": {},
   "source": [
    "premier programme:"
   ]
  },
  {
   "cell_type": "code",
   "execution_count": 6,
   "metadata": {
    "scrolled": true
   },
   "outputs": [
    {
     "name": "stdout",
     "output_type": "stream",
     "text": [
      "vert\n"
     ]
    }
   ],
   "source": [
    "from random import *\n",
    "\n",
    "couleur=['rouge','vert','bleu','cyan','magenta','jaune']\n",
    "tirage=choice(couleur)\n",
    "print(tirage)"
   ]
  },
  {
   "cell_type": "markdown",
   "metadata": {},
   "source": [
    "ce premier programme est vraiment ultra simple, il est basé sur les exemples donnés dans le dernier notebook"
   ]
  },
  {
   "cell_type": "markdown",
   "metadata": {},
   "source": [
    "second programme:"
   ]
  },
  {
   "cell_type": "code",
   "execution_count": 9,
   "metadata": {
    "scrolled": true
   },
   "outputs": [
    {
     "name": "stdout",
     "output_type": "stream",
     "text": [
      "rouge\n",
      "rouge\n",
      "cyan\n",
      "jaune\n",
      "rouge\n",
      "magenta\n",
      "vert\n",
      "jaune\n",
      "cyan\n",
      "magenta\n"
     ]
    }
   ],
   "source": [
    "from random import *\n",
    "\n",
    "couleur=['rouge','vert','bleu','cyan','magenta','jaune']\n",
    "\n",
    "def tirage():\n",
    "    valeur=choice(couleur)\n",
    "    return valeur\n",
    "\n",
    "i=1\n",
    "while i<11:\n",
    "    print (tirage())\n",
    "    i=i+1\n"
   ]
  },
  {
   "cell_type": "markdown",
   "metadata": {},
   "source": [
    "3e programme:"
   ]
  },
  {
   "cell_type": "code",
   "execution_count": 24,
   "metadata": {
    "scrolled": true
   },
   "outputs": [
    {
     "name": "stdout",
     "output_type": "stream",
     "text": [
      "jaune\n",
      "rouge\n",
      "bleu\n",
      "jaune\n",
      "rouge\n",
      "magenta\n",
      "bleu\n",
      "jaune\n",
      "magenta\n",
      "rouge\n",
      "['jaune', 'rouge', 'bleu', 'jaune', 'rouge', 'magenta', 'bleu', 'jaune', 'magenta', 'rouge']\n"
     ]
    }
   ],
   "source": [
    "from random import *\n",
    "\n",
    "couleur=['rouge','vert','bleu','cyan','magenta','jaune']\n",
    "resultat=[]\n",
    "\n",
    "def tirage():\n",
    "    valeur=choice(couleur)\n",
    "    return valeur\n",
    "\n",
    "i=1\n",
    "while i<11:\n",
    "    inter=tirage()\n",
    "    print(inter)\n",
    "    resultat.append(inter)\n",
    "    i=i+1\n",
    "\n",
    "print(list(resultat))"
   ]
  },
  {
   "cell_type": "markdown",
   "metadata": {},
   "source": [
    "vous remarquerez que le tirage au sort dans la liste est bien stocké dans la liste.\n",
    "On peut très bien faire disparaitre le résulat de chaque tirage intermédiaire en mettat un dièse # devant le print(inter)...on dit que l'on passe la ligne en commentaire\n"
   ]
  },
  {
   "cell_type": "markdown",
   "metadata": {},
   "source": [
    "4e programme:"
   ]
  },
  {
   "cell_type": "code",
   "execution_count": 27,
   "metadata": {},
   "outputs": [
    {
     "name": "stdout",
     "output_type": "stream",
     "text": [
      "bleu\n",
      "cyan\n",
      "cyan\n",
      "rouge\n",
      "cyan\n",
      "vert\n",
      "rouge\n",
      "bleu\n",
      "jaune\n",
      "rouge\n",
      "['bleu', 'cyan', 'cyan', 'rouge', 'cyan', 'vert', 'rouge', 'bleu', 'jaune', 'rouge']\n"
     ]
    }
   ],
   "source": [
    "from random import *\n",
    "\n",
    "couleur=['rouge','vert','bleu','cyan','magenta','jaune']\n",
    "resultat=[]\n",
    "\n",
    "def tirage():\n",
    "    valeur=choice(couleur)\n",
    "    return valeur\n",
    "\n",
    "i=1\n",
    "while i<11:\n",
    "    inter=tirage()\n",
    "    print(inter)\n",
    "    resultat.append(inter)\n",
    "    i=i+1\n",
    "\n",
    "print(list(resultat))\n",
    "\n",
    "NomFichier='stockage.txt'\n",
    "Fichier=open(NomFichier,'w')\n",
    "Fichier.write(str(resultat))\n",
    "Fichier.close()"
   ]
  },
  {
   "cell_type": "code",
   "execution_count": null,
   "metadata": {},
   "outputs": [],
   "source": []
  }
 ],
 "metadata": {
  "celltoolbar": "Tags",
  "kernelspec": {
   "display_name": "Python 3",
   "language": "python",
   "name": "python3"
  },
  "language_info": {
   "codemirror_mode": {
    "name": "ipython",
    "version": 3
   },
   "file_extension": ".py",
   "mimetype": "text/x-python",
   "name": "python",
   "nbconvert_exporter": "python",
   "pygments_lexer": "ipython3",
   "version": "3.7.3"
  }
 },
 "nbformat": 4,
 "nbformat_minor": 2
}
